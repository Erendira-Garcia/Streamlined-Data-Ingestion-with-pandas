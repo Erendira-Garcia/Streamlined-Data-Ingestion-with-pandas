{
  "nbformat": 4,
  "nbformat_minor": 0,
  "metadata": {
    "colab": {
      "provenance": []
    },
    "kernelspec": {
      "name": "python3",
      "display_name": "Python 3"
    },
    "language_info": {
      "name": "python"
    }
  },
  "cells": [
    {
      "cell_type": "markdown",
      "source": [
        "### Connect to a database"
      ],
      "metadata": {
        "id": "CF4ShXqn2T18"
      }
    },
    {
      "cell_type": "code",
      "execution_count": null,
      "metadata": {
        "id": "qRELztHU0NCW"
      },
      "outputs": [],
      "source": [
        "# Load libraries\n",
        "import pandas as pd\n",
        "from sqlalchemy import create_engine\n",
        "\n",
        "# Create the database engine\n",
        "engine = create_engine('sqlite:///data.db')\n",
        "\n",
        "# Load hpd311calls without any SQL\n",
        "hpd_calls = pd.read_sql('hpd311calls', engine)\n",
        "\n",
        "# View the first few rows of data\n",
        "print(hpd_calls.head())"
      ]
    },
    {
      "cell_type": "code",
      "source": [
        "# Create the database engine\n",
        "engine = create_engine(\"sqlite:///data.db\")\n",
        "\n",
        "# Create a SQL query to load the entire weather table\n",
        "query = \"\"\"\n",
        "SELECT *\n",
        "  FROM weather;\n",
        "\"\"\"\n",
        "\n",
        "# Load weather with the SQL query\n",
        "weather = pd.read_sql(query, engine)\n",
        "\n",
        "# View the first few rows of data\n",
        "print(weather.head())"
      ],
      "metadata": {
        "id": "_ZiAOYF23JD-"
      },
      "execution_count": null,
      "outputs": []
    },
    {
      "cell_type": "markdown",
      "source": [
        "### Selecting columns with SQL"
      ],
      "metadata": {
        "id": "chVuSAKC2ZEZ"
      }
    },
    {
      "cell_type": "code",
      "source": [
        "# Create database engine for data.db\n",
        "engine = create_engine(\"sqlite:///data.db\")\n",
        "\n",
        "# Write query to get date, tmax, and tmin from weather\n",
        "query = \"\"\"\n",
        "SELECT date,\n",
        "       tmax,\n",
        "       tmin\n",
        "  FROM weather;\n",
        "\"\"\"\n",
        "\n",
        "# Make a dataframe by passing query and engine to read_sql()\n",
        "temperatures = pd.read_sql( query, engine)\n",
        "\n",
        "# View the resulting dataframe\n",
        "print(temperatures)"
      ],
      "metadata": {
        "id": "tsp_eY1A40Vb"
      },
      "execution_count": null,
      "outputs": []
    },
    {
      "cell_type": "markdown",
      "source": [
        "### Selecting rows"
      ],
      "metadata": {
        "id": "6vAQn6XX44T7"
      }
    },
    {
      "cell_type": "code",
      "source": [
        "# Create query to get hpd311calls records about safety\n",
        "query = \"\"\"\n",
        "SELECT *\n",
        "FROM hpd311calls\n",
        "WHERE complaint_type = 'SAFETY';\n",
        "\"\"\"\n",
        "\n",
        "# Query the database and assign result to safety_calls\n",
        "safety_calls = pd.read_sql(query, engine)\n",
        "\n",
        "# Graph the number of safety calls by borough\n",
        "call_counts = safety_calls.groupby('borough').unique_key.count()\n",
        "call_counts.plot.barh()\n",
        "plt.show()"
      ],
      "metadata": {
        "id": "DntF1YKe5WME"
      },
      "execution_count": null,
      "outputs": []
    },
    {
      "cell_type": "markdown",
      "source": [
        "### Filtering on multiple conditions"
      ],
      "metadata": {
        "id": "eG8L7EoL6enc"
      }
    },
    {
      "cell_type": "code",
      "source": [
        "# Create query for records with max temps <= 32 or snow >= 1\n",
        "query = \"\"\"\n",
        "SELECT *\n",
        "  FROM weather\n",
        "  WHERE tmax <= 32 OR\n",
        "  snow >= 1;\n",
        "\"\"\"\n",
        "\n",
        "# Query database and assign result to wintry_days\n",
        "wintry_days = pd.read_sql(query, engine)\n",
        "\n",
        "# View summary stats about the temperatures\n",
        "print(wintry_days.describe())"
      ],
      "metadata": {
        "id": "CkbWorJI6aNQ"
      },
      "execution_count": null,
      "outputs": []
    },
    {
      "cell_type": "markdown",
      "source": [
        "### Getting distinct values"
      ],
      "metadata": {
        "id": "EQsHIKqC8Kco"
      }
    },
    {
      "cell_type": "code",
      "source": [
        "# Create query for unique combinations of borough and complaint_type\n",
        "query = \"\"\"\n",
        "SELECT DISTINCT borough,\n",
        "       complaint_type\n",
        "  FROM hpd311calls;\n",
        "\"\"\"\n",
        "\n",
        "# Load results of query to a dataframe\n",
        "issues_and_boros = pd.read_sql(query, engine)\n",
        "\n",
        "# Check assumption about issues and boroughs\n",
        "print(issues_and_boros)"
      ],
      "metadata": {
        "id": "LX2AdfW18LFR"
      },
      "execution_count": null,
      "outputs": []
    },
    {
      "cell_type": "markdown",
      "source": [
        "### Counting in groups"
      ],
      "metadata": {
        "id": "TnzeCW7H8VwP"
      }
    },
    {
      "cell_type": "code",
      "source": [
        "# Create query to get call counts by complaint_type\n",
        "query = \"\"\"\n",
        "SELECT DISTINCT complaint_type,\n",
        "     count(*)\n",
        "  FROM hpd311calls\n",
        "  GROUP BY complaint_type;\n",
        "\"\"\"\n",
        "\n",
        "# Create dataframe of call counts by issue\n",
        "calls_by_issue = pd.read_sql(query, engine)\n",
        "\n",
        "# Graph the number of calls for each housing issue\n",
        "calls_by_issue.plot.barh(x=\"complaint_type\")\n",
        "plt.show()"
      ],
      "metadata": {
        "id": "YLVDIFoF8W_A"
      },
      "execution_count": null,
      "outputs": []
    },
    {
      "cell_type": "markdown",
      "source": [
        "### Working with aggregate functions"
      ],
      "metadata": {
        "id": "-B8QHBdH8wYf"
      }
    },
    {
      "cell_type": "code",
      "source": [
        "# Create query to get temperature and precipitation by month\n",
        "query = \"\"\"\n",
        "SELECT month,\n",
        "        MAX(tmax),\n",
        "        MIN(tmin),\n",
        "        SUM(prcp)\n",
        "  FROM weather\n",
        " GROUP BY month;\n",
        "\"\"\"\n",
        "\n",
        "# Get dataframe of monthly weather stats\n",
        "weather_by_month = pd.read_sql(query, engine)\n",
        "\n",
        "# View weather stats by month\n",
        "print(weather_by_month)"
      ],
      "metadata": {
        "id": "kEFgDRpY81cn"
      },
      "execution_count": null,
      "outputs": []
    },
    {
      "cell_type": "markdown",
      "source": [
        "### Joining tables"
      ],
      "metadata": {
        "id": "a5oE9h4F9RHl"
      }
    },
    {
      "cell_type": "code",
      "source": [
        "# Query to join weather to call records by date columns\n",
        "query = \"\"\"\n",
        "SELECT *\n",
        "  FROM hpd311calls\n",
        "  JOIN weather\n",
        "  ON hpd311calls.created_date = weather.date;\n",
        "\"\"\"\n",
        "\n",
        "# Create dataframe of joined tables\n",
        "calls_with_weather = pd.read_sql(query, engine)\n",
        "\n",
        "# View the dataframe to make sure all columns were joined\n",
        "print(calls_with_weather.head())"
      ],
      "metadata": {
        "id": "m00CokQE9svu"
      },
      "execution_count": null,
      "outputs": []
    },
    {
      "cell_type": "markdown",
      "source": [
        "### Joining and filtering"
      ],
      "metadata": {
        "id": "_zIF22EE97L5"
      }
    },
    {
      "cell_type": "code",
      "source": [
        "# Modify query to join tmax and tmin from weather by date\n",
        "query = \"\"\"\n",
        "SELECT hpd311calls.created_date,\n",
        "\t   COUNT(*),\n",
        "       weather.tmax,\n",
        "       weather.tmin\n",
        "  FROM hpd311calls\n",
        "       JOIN weather\n",
        "       ON hpd311calls.created_date = weather.date\n",
        " WHERE hpd311calls.complaint_type = 'HEAT/HOT WATER'\n",
        " GROUP BY hpd311calls.created_date;\n",
        " \"\"\"\n",
        "\n",
        "# Query database and save results as df\n",
        "df = pd.read_sql(query, engine)\n",
        "\n",
        "# View first 5 records\n",
        "print(df.head())"
      ],
      "metadata": {
        "id": "Qsqs8hDk9-31"
      },
      "execution_count": null,
      "outputs": []
    }
  ]
}