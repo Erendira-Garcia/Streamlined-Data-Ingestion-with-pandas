{
  "nbformat": 4,
  "nbformat_minor": 0,
  "metadata": {
    "colab": {
      "provenance": []
    },
    "kernelspec": {
      "name": "python3",
      "display_name": "Python 3"
    },
    "language_info": {
      "name": "python"
    }
  },
  "cells": [
    {
      "cell_type": "markdown",
      "source": [
        "### Get data from CSVs"
      ],
      "metadata": {
        "id": "Fwq-jRwGlWIz"
      }
    },
    {
      "cell_type": "code",
      "execution_count": null,
      "metadata": {
        "id": "W2EYqzkpk8U6"
      },
      "outputs": [],
      "source": [
        "# Import pandas as pd\n",
        "import pandas as pd\n",
        "\n",
        "# Read the CSV and assign it to the variable data\n",
        "data = pd.read_csv(\"vt_tax_data_2016.csv\")\n",
        "\n",
        "# View the first few lines of data\n",
        "print(data.head())"
      ]
    },
    {
      "cell_type": "markdown",
      "source": [
        "### Get data from other flat files"
      ],
      "metadata": {
        "id": "XeUqRJJtmWsX"
      }
    },
    {
      "cell_type": "code",
      "source": [
        "# Import pandas with the alias pd\n",
        "import pandas as pd\n",
        "\n",
        "# Load TSV using the sep keyword argument to set delimiter\n",
        "data = pd.read_csv(\"vt_tax_data_2016.tsv\", sep=\"\\t\")\n",
        "\n",
        "# Plot the total number of tax returns by income group\n",
        "counts = data.groupby(\"agi_stub\").N1.sum()\n",
        "counts.plot.bar()\n",
        "plt.show()"
      ],
      "metadata": {
        "id": "qs6ohMbRmTYL"
      },
      "execution_count": null,
      "outputs": []
    },
    {
      "cell_type": "markdown",
      "source": [
        "### Import a subset of columns"
      ],
      "metadata": {
        "id": "CehmKdQBio3c"
      }
    },
    {
      "cell_type": "code",
      "source": [
        "# Create list of columns to use\n",
        "cols = ['zipcode', 'agi_stub', 'mars1', 'MARS2', 'NUMDEP']\n",
        "\n",
        "# Create dataframe from csv using only selected columns\n",
        "data = pd.read_csv(\"vt_tax_data_2016.csv\", usecols= cols)\n",
        "\n",
        "# View counts of dependents and tax returns by income level\n",
        "print(data.groupby(\"agi_stub\").sum())"
      ],
      "metadata": {
        "id": "r3bUORbhiszI"
      },
      "execution_count": null,
      "outputs": []
    },
    {
      "cell_type": "markdown",
      "source": [
        "### Import a file in chunks"
      ],
      "metadata": {
        "id": "qQiG3S4PitvF"
      }
    },
    {
      "cell_type": "code",
      "source": [
        "# Create dataframe of next 500 rows with labeled columns\n",
        "vt_data_next500 = pd.read_csv(\"vt_tax_data_2016.csv\",\n",
        "                       \t\t  nrows = 500,\n",
        "                       \t\t  skiprows = 500,\n",
        "                       \t\t  header = None,\n",
        "                       \t\t  names = list(vt_data_first500))\n",
        "\n",
        "# View the Vermont dataframes to confirm they're different\n",
        "print(vt_data_first500.head())\n",
        "print(vt_data_next500.head())"
      ],
      "metadata": {
        "id": "xb2JiR_Qiz7S"
      },
      "execution_count": null,
      "outputs": []
    },
    {
      "cell_type": "markdown",
      "source": [
        "### Specify data types"
      ],
      "metadata": {
        "id": "5w8DPAAlKthn"
      }
    },
    {
      "cell_type": "code",
      "source": [
        "# Create dict specifying data types for agi_stub and zipcode\n",
        "data_types = {'zipcode': str,\n",
        "\t\t\t  'agi_stub':\"category\"}\n",
        "\n",
        "# Load csv using dtype to set correct data types\n",
        "data = pd.read_csv(\"vt_tax_data_2016.csv\", dtype = data_types)\n",
        "\n",
        "# Print data types of resulting frame\n",
        "print(data.dtypes.head())"
      ],
      "metadata": {
        "id": "jkLVYeojKuEO"
      },
      "execution_count": null,
      "outputs": []
    },
    {
      "cell_type": "markdown",
      "source": [
        "### Set custom NA values"
      ],
      "metadata": {
        "id": "cVQZ5VBeLnW8"
      }
    },
    {
      "cell_type": "code",
      "source": [
        "# Create dict specifying that 0s in zipcode are NA values\n",
        "null_values = {'zipcode': 0}\n",
        "\n",
        "# Load csv using na_values keyword argument\n",
        "data = pd.read_csv(\"vt_tax_data_2016.csv\",\n",
        "                   na_values = null_values)\n",
        "\n",
        "# View rows with NA ZIP codes\n",
        "print(data[data.zipcode.isna()])"
      ],
      "metadata": {
        "id": "HAUr5lJHLntF"
      },
      "execution_count": null,
      "outputs": []
    },
    {
      "cell_type": "markdown",
      "source": [
        "#### Skip bad data"
      ],
      "metadata": {
        "id": "BdNFrnWuV8KF"
      }
    },
    {
      "cell_type": "code",
      "source": [
        "try:\n",
        "  # Set warn_bad_lines to issue warnings about bad records\n",
        "  data = pd.read_csv(\"vt_tax_data_2016_corrupt.csv\",\n",
        "                     error_bad_lines = False,\n",
        "                     warn_bad_lines = True)\n",
        "\n",
        "  # View first 5 records\n",
        "  print(data.head())\n",
        "\n",
        "except pd.errors.ParserError:\n",
        "    print(\"Your data contained rows that could not be parsed.\")"
      ],
      "metadata": {
        "id": "bHaiprqnVw-2"
      },
      "execution_count": null,
      "outputs": []
    },
    {
      "cell_type": "markdown",
      "source": [],
      "metadata": {
        "id": "ZujsxjrWV-DF"
      }
    }
  ]
}