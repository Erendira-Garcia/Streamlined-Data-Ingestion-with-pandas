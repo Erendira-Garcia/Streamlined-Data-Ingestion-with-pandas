{
  "nbformat": 4,
  "nbformat_minor": 0,
  "metadata": {
    "colab": {
      "provenance": []
    },
    "kernelspec": {
      "name": "python3",
      "display_name": "Python 3"
    },
    "language_info": {
      "name": "python"
    }
  },
  "cells": [
    {
      "cell_type": "markdown",
      "source": [
        "### Get data from a spreadsheet"
      ],
      "metadata": {
        "id": "7A93gaQsaqh_"
      }
    },
    {
      "cell_type": "code",
      "execution_count": null,
      "metadata": {
        "id": "p50SfDRcWNOi"
      },
      "outputs": [],
      "source": [
        "# Load pandas as pd\n",
        "import pandas as pd\n",
        "\n",
        "# Read spreadsheet and assign it to survey_responses\n",
        "survey_responses = pd.read_excel('fcc_survey.xlsx')\n",
        "\n",
        "# View the head of the dataframe\n",
        "print(survey_responses.head())"
      ]
    },
    {
      "cell_type": "markdown",
      "source": [
        "### Load a portion of a spreadsheet"
      ],
      "metadata": {
        "id": "yDC_CvlmgsUb"
      }
    },
    {
      "cell_type": "code",
      "source": [
        "# Create string of lettered columns to load\n",
        "col_string = \"AD, AW: BA\"\n",
        "\n",
        "# Load data with skiprows and usecols set\n",
        "survey_responses = pd.read_excel(\"fcc_survey_headers.xlsx\",\n",
        "                        skiprows = 2,\n",
        "                        usecols = col_string)\n",
        "\n",
        "# View the names of the columns selected\n",
        "print(survey_responses.columns)"
      ],
      "metadata": {
        "id": "0vY7wb-qatRl"
      },
      "execution_count": null,
      "outputs": []
    },
    {
      "cell_type": "markdown",
      "source": [
        "### Select a single sheet"
      ],
      "metadata": {
        "id": "kfR4BIhbjIQ4"
      }
    },
    {
      "cell_type": "code",
      "source": [
        "# Create df from second worksheet by referencing its name\n",
        "responses_2017 = pd.read_excel(\"fcc_survey.xlsx\",\n",
        "                               sheet_name = '2017')\n",
        "\n",
        "# Graph where people would like to get a developer job\n",
        "job_prefs = responses_2017.groupby(\"JobPref\").JobPref.count()\n",
        "job_prefs.plot.barh()\n",
        "plt.show()"
      ],
      "metadata": {
        "id": "NvALgLUAjHhx"
      },
      "execution_count": null,
      "outputs": []
    },
    {
      "cell_type": "markdown",
      "source": [
        "### Select multiple sheets"
      ],
      "metadata": {
        "id": "jV-x8FRkjMbR"
      }
    },
    {
      "cell_type": "code",
      "source": [
        "# Load both the 2016 and 2017 sheets by name\n",
        "all_survey_data = pd.read_excel(\"fcc_survey.xlsx\",\n",
        "                                sheet_name = ['2016', '2017'])\n",
        "\n",
        "# View the data type of all_survey_data\n",
        "print(type(all_survey_data))"
      ],
      "metadata": {
        "id": "gJ5k25FAj2zv"
      },
      "execution_count": null,
      "outputs": []
    },
    {
      "cell_type": "code",
      "source": [
        "# Load all sheets in the Excel file\n",
        "all_survey_data = pd.read_excel(\"fcc_survey.xlsx\",\n",
        "                                sheet_name = [0, '2017'])\n",
        "\n",
        "# View the sheet names in all_survey_data\n",
        "print(all_survey_data.keys())"
      ],
      "metadata": {
        "id": "XsEXf1NPj7Rm"
      },
      "execution_count": null,
      "outputs": []
    },
    {
      "cell_type": "code",
      "source": [
        "# Load all sheets in the Excel file\n",
        "all_survey_data = pd.read_excel(\"fcc_survey.xlsx\",\n",
        "                                sheet_name = None)\n",
        "\n",
        "# View the sheet names in all_survey_data\n",
        "print(all_survey_data.keys())"
      ],
      "metadata": {
        "id": "i9r_NYiukJZy"
      },
      "execution_count": null,
      "outputs": []
    },
    {
      "cell_type": "markdown",
      "source": [
        "### Work with multiple spreadsheets"
      ],
      "metadata": {
        "id": "tMmTo3z8kQ9p"
      }
    },
    {
      "cell_type": "code",
      "source": [
        "# Create an empty dataframe\n",
        "all_responses = pd.DataFrame()\n",
        "\n",
        "# Set up for loop to iterate through values in responses\n",
        "for df in responses.values():\n",
        "  # Print the number of rows being added\n",
        "  print(\"Adding {} rows\".format(df.shape[0]))\n",
        "  # Append df to all_responses, assign result\n",
        "  all_responses = all_responses.append(df)\n",
        "\n",
        "# Graph employment statuses in sample\n",
        "counts = all_responses.groupby(\"EmploymentStatus\").EmploymentStatus.count()\n",
        "counts.plot.barh()\n",
        "plt.show()"
      ],
      "metadata": {
        "id": "BdTl8syWkYyw"
      },
      "execution_count": null,
      "outputs": []
    },
    {
      "cell_type": "markdown",
      "source": [
        "### Set Boolean columns"
      ],
      "metadata": {
        "id": "e6HpgfNtl9il"
      }
    },
    {
      "cell_type": "code",
      "source": [
        "# Load the data\n",
        "survey_data = pd.read_excel(\"fcc_survey_subset.xlsx\")\n",
        "\n",
        "# Count NA values in each column\n",
        "print(survey_data.isna().sum())"
      ],
      "metadata": {
        "id": "0Ys5uF81n1rx"
      },
      "execution_count": null,
      "outputs": []
    },
    {
      "cell_type": "code",
      "source": [
        "# Set dtype to load appropriate column(s) as Boolean data\n",
        "survey_data = pd.read_excel(\"fcc_survey_subset.xlsx\",\n",
        "                            dtype = {'HasDebt' : bool})\n",
        "\n",
        "# View financial burdens by Boolean group\n",
        "print(survey_data.groupby('HasDebt').sum())"
      ],
      "metadata": {
        "id": "HqonHZBFohhQ"
      },
      "execution_count": null,
      "outputs": []
    },
    {
      "cell_type": "markdown",
      "source": [
        "### Set custom true/false values"
      ],
      "metadata": {
        "id": "UxGXHR_ln56h"
      }
    },
    {
      "cell_type": "code",
      "source": [
        "# Load file with Yes as a True value and No as a False value\n",
        "survey_subset = pd.read_excel(\"fcc_survey_yn_data.xlsx\",\n",
        "                              dtype={\"HasDebt\": bool,\n",
        "                              \"AttendedBootCampYesNo\": bool},\n",
        "                              true_values = ['Yes'],\n",
        "                              false_values = ['No'])\n",
        "\n",
        "# View the data\n",
        "print(survey_subset.head())"
      ],
      "metadata": {
        "id": "a148k7-tomAH"
      },
      "execution_count": null,
      "outputs": []
    },
    {
      "cell_type": "markdown",
      "source": [
        "### Parse simple dates"
      ],
      "metadata": {
        "id": "14Cx47pmo-44"
      }
    },
    {
      "cell_type": "code",
      "source": [
        "# Load file, with Part1StartTime parsed as datetime data\n",
        "survey_data = pd.read_excel(\"fcc_survey.xlsx\",\n",
        "                            parse_dates=[\"Part1StartTime\"])\n",
        "\n",
        "# Print first few values of Part1StartTime\n",
        "print(survey_data.Part1StartTime.head())"
      ],
      "metadata": {
        "id": "CzJAIuhQr-Z6"
      },
      "execution_count": null,
      "outputs": []
    },
    {
      "cell_type": "markdown",
      "source": [
        "### Get datetimes from multiple columns"
      ],
      "metadata": {
        "id": "-DCKXCj4r9z0"
      }
    },
    {
      "cell_type": "code",
      "source": [
        "# Create dict of columns to combine into new datetime column\n",
        "datetime_cols = {\"Part2Start\": ['Part2StartDate', 'Part2StartTime']}\n",
        "\n",
        "\n",
        "# Load file, supplying the dict to parse_dates\n",
        "survey_data = pd.read_excel(\"fcc_survey_dts.xlsx\",\n",
        "                            parse_dates = datetime_cols)\n",
        "\n",
        "# View summary statistics about Part2Start\n",
        "print(survey_data.Part2Start.describe())"
      ],
      "metadata": {
        "id": "QyYT95yVvHKA"
      },
      "execution_count": null,
      "outputs": []
    },
    {
      "cell_type": "markdown",
      "source": [
        "### Parse non-standard date formats"
      ],
      "metadata": {
        "id": "xGJK4EszwSFA"
      }
    },
    {
      "cell_type": "code",
      "source": [
        "# Parse datetimes and assign result back to Part2EndTime\n",
        "survey_data[\"Part2EndTime\"] = pd.to_datetime(survey_data[\"Part2EndTime\"], format = \"%m%d%Y %H:%M:%S\")\n",
        "print(survey_data[\"Part2EndTime\"].head())"
      ],
      "metadata": {
        "id": "S56_ypIVzeSI"
      },
      "execution_count": null,
      "outputs": []
    },
    {
      "cell_type": "markdown",
      "source": [],
      "metadata": {
        "id": "Jf_QO9OQzlXd"
      }
    }
  ]
}